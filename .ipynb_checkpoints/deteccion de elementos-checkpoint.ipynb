{
 "cells": [
  {
   "cell_type": "markdown",
   "id": "c088083c",
   "metadata": {},
   "source": [
    "# Detección de elementos\n",
    "En este ejemplo vamos a usa el modelo [YOLO](https://arxiv.org/pdf/1612.08242.pdf), gracias al cual podremos detectar los elementos que aparecen dentro de una fotgrafia o video.\n",
    "\n",
    "La identificación que obtendremos con YOLO consite en una etiqueta indicando que es lo que se ha detectado y las posiciones en la que se enuentra este objeto.\n",
    "\n",
    "La implementación que usaresmos será la proporcionado por la biblioteca OpenCV."
   ]
  },
  {
   "cell_type": "markdown",
   "id": "7770d869",
   "metadata": {},
   "source": [
    "## Carga del modelos\n",
    "A continuación realizamos la carga del modelo preentrenado par la ejecución de YOLO. \n",
    "\n",
    "Se le debe indicar el fichero de clases (que será lo que se podrá detectar), los pesos preentenados y el fichero de configuración del modelo."
   ]
  },
  {
   "cell_type": "code",
   "execution_count": 1,
   "id": "99c6ae61",
   "metadata": {},
   "outputs": [],
   "source": [
    "import cv2\n",
    "import numpy as np\n",
    "\n",
    "_fichero_clases = './recursos_yolo/yolov3.txt'\n",
    "_fichero_pesos = './recursos_yolo/yolov3.weights'\n",
    "_fichero_configuracion = 'recursos_yolo/yolov3.cfg' \n",
    "\n",
    "# Lectura de las clases\n",
    "classes = None\n",
    "with open(_fichero_clases, 'r') as f:\n",
    "    classes = [line.strip() for line in f.readlines()]\n",
    "    \n",
    "# Carga del modelo\n",
    "net = cv2.dnn.readNet(_fichero_pesos, _fichero_configuracion)\n"
   ]
  },
  {
   "cell_type": "markdown",
   "id": "2d6dc2fb",
   "metadata": {},
   "source": [
    "## Carga de la imagen\n",
    "\n",
    "Realizamos la carga de la imagen que queremso procesar, asi como su conversión a matriz y su preprocesmainto:escalado, normalizado de colores, etc. para que funcione de manera correcta el modelo"
   ]
  },
  {
   "cell_type": "code",
   "execution_count": 2,
   "id": "1578bae9",
   "metadata": {},
   "outputs": [
    {
     "name": "stdout",
     "output_type": "stream",
     "text": [
      "[[[[0.51744    0.52136    0.5292     ... 0.47824    0.47432\n",
      "    0.47824   ]\n",
      "   [0.51352    0.52136    0.5292     ... 0.47432    0.47432\n",
      "    0.47432   ]\n",
      "   [0.52528    0.52136    0.52528    ... 0.47432    0.47432\n",
      "    0.47824   ]\n",
      "   ...\n",
      "   [0.39984    0.39984    0.39984    ... 0.39200002 0.38808\n",
      "    0.40376002]\n",
      "   [0.39984    0.39984    0.39984    ... 0.39200002 0.4116\n",
      "    0.39592   ]\n",
      "   [0.38808    0.39592    0.39984    ... 0.40768    0.40768\n",
      "    0.40768   ]]\n",
      "\n",
      "  [[0.51744    0.51744    0.5292     ... 0.47824    0.47432\n",
      "    0.47824   ]\n",
      "   [0.51352    0.51744    0.52136    ... 0.47432    0.47432\n",
      "    0.47432   ]\n",
      "   [0.51744    0.52136    0.52528    ... 0.47432    0.47432\n",
      "    0.47824   ]\n",
      "   ...\n",
      "   [0.34104002 0.34104002 0.34104002 ... 0.32536    0.32536\n",
      "    0.34104002]\n",
      "   [0.34104002 0.34104002 0.34496    ... 0.3332     0.33712\n",
      "    0.3332    ]\n",
      "   [0.34104002 0.33712    0.34104002 ... 0.34104002 0.34104002\n",
      "    0.33712   ]]\n",
      "\n",
      "  [[0.51744    0.52136    0.52136    ... 0.47824    0.47432\n",
      "    0.47824   ]\n",
      "   [0.50568    0.51352    0.52528    ... 0.47432    0.47432\n",
      "    0.47432   ]\n",
      "   [0.52136    0.51744    0.52528    ... 0.47432    0.47432\n",
      "    0.47824   ]\n",
      "   ...\n",
      "   [0.25872    0.25872    0.25872    ... 0.2156     0.21952\n",
      "    0.21952   ]\n",
      "   [0.25872    0.25872    0.26656002 ... 0.2352     0.22736001\n",
      "    0.23128   ]\n",
      "   [0.2548     0.26264    0.26656002 ... 0.22344    0.21952\n",
      "    0.21168   ]]]]\n"
     ]
    }
   ],
   "source": [
    "_path_imagen = './entradas/ej_1.jpg' \n",
    "\n",
    "image = cv2.imread(_path_imagen)\n",
    "\n",
    "Width = image.shape[1]\n",
    "Height = image.shape[0]\n",
    "scale = 0.00392\n",
    "\n",
    "# Convierte la imagen en una matriz normalizada \n",
    "blob = cv2.dnn.blobFromImage(image, scale, (416,416), (0,0,0), True, crop=False)\n",
    "\n",
    "print(blob)"
   ]
  },
  {
   "cell_type": "markdown",
   "id": "8925d4ba",
   "metadata": {},
   "source": [
    "## Pasamos la imagen por el modelo\n",
    "Una vez que se tiene la imagen convertida en una matriz ya sería posible pasar esta por el modelo.\n",
    "\n",
    "Como resultado de pasar la imagen por el modelo se obtendrán las capas de salida. Que en caso de yolo V3 son multiples capas, como se puede ver a continuación."
   ]
  },
  {
   "cell_type": "code",
   "execution_count": 3,
   "id": "20d07a73",
   "metadata": {},
   "outputs": [
    {
     "name": "stdout",
     "output_type": "stream",
     "text": [
      "[array([[0.03520504, 0.04227688, 0.29917115, ..., 0.        , 0.        ,\n",
      "        0.        ],\n",
      "       [0.04262922, 0.03706223, 0.22513874, ..., 0.        , 0.        ,\n",
      "        0.        ],\n",
      "       [0.04803494, 0.03435124, 0.8442951 , ..., 0.        , 0.        ,\n",
      "        0.        ],\n",
      "       ...,\n",
      "       [0.95898086, 0.94803035, 0.37332883, ..., 0.        , 0.        ,\n",
      "        0.        ],\n",
      "       [0.9629824 , 0.9619268 , 0.3082285 , ..., 0.        , 0.        ,\n",
      "        0.        ],\n",
      "       [0.9651432 , 0.96323967, 0.8948195 , ..., 0.        , 0.        ,\n",
      "        0.        ]], dtype=float32), array([[0.01973257, 0.01763115, 0.0593956 , ..., 0.        , 0.        ,\n",
      "        0.        ],\n",
      "       [0.01151168, 0.01944109, 0.29824346, ..., 0.        , 0.        ,\n",
      "        0.        ],\n",
      "       [0.01843976, 0.01864745, 0.08328518, ..., 0.        , 0.        ,\n",
      "        0.        ],\n",
      "       ...,\n",
      "       [0.9752635 , 0.97697383, 0.04059988, ..., 0.        , 0.        ,\n",
      "        0.        ],\n",
      "       [0.98143554, 0.9782749 , 0.35777667, ..., 0.        , 0.        ,\n",
      "        0.        ],\n",
      "       [0.98120624, 0.9832264 , 0.06987305, ..., 0.        , 0.        ,\n",
      "        0.        ]], dtype=float32), array([[0.01072297, 0.00530949, 0.02727887, ..., 0.        , 0.        ,\n",
      "        0.        ],\n",
      "       [0.00993584, 0.01048868, 0.01957531, ..., 0.        , 0.        ,\n",
      "        0.        ],\n",
      "       [0.00962412, 0.00789653, 0.20143309, ..., 0.        , 0.        ,\n",
      "        0.        ],\n",
      "       ...,\n",
      "       [0.9916438 , 0.99018157, 0.01184964, ..., 0.        , 0.        ,\n",
      "        0.        ],\n",
      "       [0.9910495 , 0.9875828 , 0.01536034, ..., 0.        , 0.        ,\n",
      "        0.        ],\n",
      "       [0.9875294 , 0.9915902 , 0.17020495, ..., 0.        , 0.        ,\n",
      "        0.        ]], dtype=float32)]\n"
     ]
    }
   ],
   "source": [
    "net.setInput(blob)\n",
    "\n",
    "\n",
    "def obtener_capas_salida(net):\n",
    "    \n",
    "    layer_names = net.getLayerNames()\n",
    "    \n",
    "    output_layers = [layer_names[i[0] - 1] for i in net.getUnconnectedOutLayers()]\n",
    "\n",
    "    return output_layers\n",
    "\n",
    "# ejecutamos el procesamiento del modelo\n",
    "outs = net.forward(obtener_capas_salida(net))\n",
    "\n",
    "print (outs)"
   ]
  },
  {
   "cell_type": "markdown",
   "id": "27836bfd",
   "metadata": {},
   "source": [
    "Recorremos los objetos detectados. Para cada uno ellos obtenemos su valor de cofianza y eliminamos aquellos que no suepren el umbral fijado.\n"
   ]
  },
  {
   "cell_type": "code",
   "execution_count": 4,
   "id": "1a07fa66",
   "metadata": {},
   "outputs": [
    {
     "name": "stdout",
     "output_type": "stream",
     "text": [
      "[0, 0]\n"
     ]
    }
   ],
   "source": [
    "_umbral = 0.5\n",
    "\n",
    "\n",
    "class_ids = []\n",
    "confidences = []\n",
    "boxes = []\n",
    "\n",
    "for out in outs:\n",
    "    for detection in out:\n",
    "        scores = detection[5:]\n",
    "        class_id = np.argmax(scores)\n",
    "        confidence = scores[class_id]\n",
    "        if confidence > _umbral:\n",
    "            center_x = int(detection[0] * Width)\n",
    "            center_y = int(detection[1] * Height)\n",
    "            w = int(detection[2] * Width)\n",
    "            h = int(detection[3] * Height)\n",
    "            x = center_x - w / 2\n",
    "            y = center_y - h / 2\n",
    "            class_ids.append(class_id)\n",
    "            confidences.append(float(confidence))\n",
    "            boxes.append([x, y, w, h])\n",
    "            \n",
    "print (class_ids)"
   ]
  },
  {
   "cell_type": "markdown",
   "id": "f0907366",
   "metadata": {},
   "source": [
    "## Pintado de las cajas de los objetos\n",
    "\n",
    "Una vez qe si tiene los objetos que se han detectado podemos pintar la caja que contenga el objeto y ponerle la etiqueta detectada\n"
   ]
  },
  {
   "cell_type": "code",
   "execution_count": 5,
   "id": "e76c10f7",
   "metadata": {},
   "outputs": [],
   "source": [
    "COLORS = np.random.uniform(0, 255, size=(len(classes), 3))\n",
    "\n",
    "#Función para pintar al caja\n",
    "def draw_bounding_box(img, class_id, confidence, x, y, x_plus_w, y_plus_h):\n",
    "\n",
    "    label = str(classes[class_id])\n",
    "    color = COLORS[class_id]\n",
    "    cv2.rectangle(img, (x,y), (x_plus_w,y_plus_h), color, 2)\n",
    "    cv2.putText(img, label, (x-10,y-10), cv2.FONT_HERSHEY_SIMPLEX, 0.5, color, 2)\n",
    "\n",
    "i = 0\n",
    "for box in boxes:\n",
    "    x = box[0]\n",
    "    y = box[1]\n",
    "    w = box[2]\n",
    "    h = box[3]\n",
    "    \n",
    "    draw_bounding_box(image, class_ids[i], confidences[i], round(x), round(y), round(x+w), round(y+h))\n",
    "    \n",
    "    i = i+1\n",
    "\n",
    "   \n",
    "cv2.imshow(\"object detection\", image)\n",
    "cv2.waitKey()    \n",
    "cv2.imwrite(\"./salidas/object-detection.jpg\", image)\n",
    "cv2.destroyAllWindows()"
   ]
  },
  {
   "cell_type": "markdown",
   "id": "44459ee6",
   "metadata": {},
   "source": [
    "## Refinado de las cajas\n",
    "Procesamos las cajas, para evitar las duplicidades y quedarnos con las máximas"
   ]
  },
  {
   "cell_type": "code",
   "execution_count": 6,
   "id": "11e4577d",
   "metadata": {},
   "outputs": [],
   "source": [
    "_nms_threshold = 0.4\n",
    "            \n",
    "# non-max suppression\n",
    "indices = cv2.dnn.NMSBoxes(boxes, confidences, _umbral, _nms_threshold)\n",
    "\n",
    "for i in indices:\n",
    "    i = i[0]\n",
    "    box = boxes[i]\n",
    "    x = box[0]\n",
    "    y = box[1]\n",
    "    w = box[2]\n",
    "    h = box[3]\n",
    "    \n",
    "    draw_bounding_box(image, class_ids[i], confidences[i], round(x), round(y), round(x+w), round(y+h))\n",
    "\n",
    " \n",
    "cv2.imshow(\"object detection2\", image)\n",
    "cv2.waitKey()\n",
    "cv2.imwrite(\"./salidas/object-detection2.jpg\", image)\n",
    "cv2.destroyAllWindows()"
   ]
  }
 ],
 "metadata": {
  "kernelspec": {
   "display_name": "Python 3",
   "language": "python",
   "name": "python3"
  },
  "language_info": {
   "codemirror_mode": {
    "name": "ipython",
    "version": 3
   },
   "file_extension": ".py",
   "mimetype": "text/x-python",
   "name": "python",
   "nbconvert_exporter": "python",
   "pygments_lexer": "ipython3",
   "version": "3.8.8"
  }
 },
 "nbformat": 4,
 "nbformat_minor": 5
}

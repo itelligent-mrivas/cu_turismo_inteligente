{
 "cells": [
  {
   "cell_type": "markdown",
   "id": "c088083c",
   "metadata": {},
   "source": [
    "# Detección de elementos\n",
    "En este ejemplo vamos a usa el modelo [YOLO](https://arxiv.org/pdf/1612.08242.pdf), gracias al cual podremos detectar los elementos que aparecen dentro de una fotgrafia o video.\n",
    "\n",
    "La identificación que obtendremos con YOLO consite en una etiqueta indicando que es lo que se ha detectado y las posiciones en la que se enuentra este objeto.\n",
    "\n",
    "La implementación que usaresmos será la proporcionado por la biblioteca OpenCV."
   ]
  },
  {
   "cell_type": "markdown",
   "id": "7770d869",
   "metadata": {},
   "source": [
    "## Carga del modelos\n",
    "A continuación realizamos la carga del modelo preentrenado par la ejecución de YOLO. \n",
    "\n",
    "Se le debe indicar el fichero de clases (que será lo que se podrá detectar), los pesos preentenados y el fichero de configuración del modelo."
   ]
  },
  {
   "cell_type": "code",
   "execution_count": 1,
   "id": "99c6ae61",
   "metadata": {},
   "outputs": [],
   "source": [
    "import cv2\n",
    "import numpy as np\n",
    "\n",
    "_fichero_clases = './recursos_yolo/yolov3.txt'\n",
    "_fichero_pesos = './recursos_yolo/yolov3.weights'\n",
    "_fichero_configuracion = 'recursos_yolo/yolov3.cfg' \n",
    "\n",
    "# Lectura de las clases\n",
    "classes = None\n",
    "with open(_fichero_clases, 'r') as f:\n",
    "    classes = [line.strip() for line in f.readlines()]\n",
    "    \n",
    "# Carga del modelo\n",
    "net = cv2.dnn.readNet(_fichero_pesos, _fichero_configuracion)\n"
   ]
  },
  {
   "cell_type": "markdown",
   "id": "2d6dc2fb",
   "metadata": {},
   "source": [
    "## Carga de la imagen\n",
    "\n",
    "Realizamos la carga de la imagen que queremso procesar, asi como su conversión a matriz y su preprocesmainto:escalado, normalizado de colores, etc. para que funcione de manera correcta el modelo"
   ]
  },
  {
   "cell_type": "code",
   "execution_count": 2,
   "id": "1578bae9",
   "metadata": {},
   "outputs": [
    {
     "name": "stdout",
     "output_type": "stream",
     "text": [
      "[[[[0.99176    0.99176    0.98784    ... 0.97608    0.99176\n",
      "    0.99568003]\n",
      "   [0.98784    0.94472003 0.93296003 ... 0.83496    0.87808\n",
      "    0.98784   ]\n",
      "   [0.99568003 0.80752003 0.72912    ... 0.34104002 0.49392\n",
      "    0.98392004]\n",
      "   ...\n",
      "   [0.98392004 0.47824    0.25872    ... 0.24696    0.46648002\n",
      "    0.98392004]\n",
      "   [0.99176    0.87808    0.8428     ... 0.83888    0.87808\n",
      "    0.99568003]\n",
      "   [0.99176    0.99176    0.97608    ... 0.97608    0.99176\n",
      "    0.99176   ]]\n",
      "\n",
      "  [[0.99176    0.99176    0.98784    ... 0.97608    0.99176\n",
      "    0.99568003]\n",
      "   [0.98784    0.95648    0.94472003 ... 0.83888    0.882\n",
      "    0.98784   ]\n",
      "   [0.9996     0.83104    0.76048    ... 0.3528     0.50176\n",
      "    0.98392004]\n",
      "   ...\n",
      "   [0.98       0.46256    0.24304    ... 0.23912    0.46256\n",
      "    0.98392004]\n",
      "   [0.99176    0.87808    0.8428     ... 0.83888    0.87808\n",
      "    0.99568003]\n",
      "   [0.99176    0.99176    0.97608    ... 0.97608    0.99176\n",
      "    0.99176   ]]\n",
      "\n",
      "  [[0.99568003 0.98784    0.99176    ... 0.96824    0.98392004\n",
      "    0.9996    ]\n",
      "   [0.99176    0.93296003 0.90944004 ... 0.81144    0.85848004\n",
      "    0.99176   ]\n",
      "   [0.99176    0.78008    0.67816    ... 0.28616    0.46256\n",
      "    0.98392004]\n",
      "   ...\n",
      "   [0.98392004 0.46256    0.2352     ... 0.23128    0.45864\n",
      "    0.98      ]\n",
      "   [0.99176    0.87808    0.8428     ... 0.83888    0.87808\n",
      "    0.99568003]\n",
      "   [0.99176    0.99176    0.97608    ... 0.97608    0.99176\n",
      "    0.99176   ]]]]\n"
     ]
    }
   ],
   "source": [
    "_path_imagen = './entradas/ej_2.jpg' \n",
    "\n",
    "image = cv2.imread(_path_imagen)\n",
    "\n",
    "Width = image.shape[1]\n",
    "Height = image.shape[0]\n",
    "scale = 0.00392\n",
    "\n",
    "# Convierte la imagen en una matriz normalizada \n",
    "blob = cv2.dnn.blobFromImage(image, scale, (416,416), (0,0,0), True, crop=False)\n",
    "\n",
    "print(blob)"
   ]
  },
  {
   "cell_type": "markdown",
   "id": "8925d4ba",
   "metadata": {},
   "source": [
    "## Pasamos la imagen por el modelo\n",
    "Una vez que se tiene la imagen convertida en una matriz ya sería posible pasar esta por el modelo.\n",
    "\n",
    "Como resultado de pasar la imagen por el modelo se obtendrán las capas de salida. Que en caso de yolo V3 son multiples capas, como se puede ver a continuación."
   ]
  },
  {
   "cell_type": "code",
   "execution_count": 3,
   "id": "20d07a73",
   "metadata": {},
   "outputs": [
    {
     "name": "stdout",
     "output_type": "stream",
     "text": [
      "[array([[0.03042415, 0.04341022, 0.39466417, ..., 0.        , 0.        ,\n",
      "        0.        ],\n",
      "       [0.04205536, 0.03739486, 0.2932723 , ..., 0.        , 0.        ,\n",
      "        0.        ],\n",
      "       [0.04267532, 0.04025999, 0.7159595 , ..., 0.        , 0.        ,\n",
      "        0.        ],\n",
      "       ...,\n",
      "       [0.95474887, 0.9503714 , 0.4723646 , ..., 0.        , 0.        ,\n",
      "        0.        ],\n",
      "       [0.9630899 , 0.9643203 , 0.32435405, ..., 0.        , 0.        ,\n",
      "        0.        ],\n",
      "       [0.9651958 , 0.9659401 , 0.8611804 , ..., 0.        , 0.        ,\n",
      "        0.        ]], dtype=float32), array([[0.01565011, 0.02240092, 0.04353913, ..., 0.        , 0.        ,\n",
      "        0.        ],\n",
      "       [0.01370748, 0.01544142, 0.44774392, ..., 0.        , 0.        ,\n",
      "        0.        ],\n",
      "       [0.02114592, 0.01633698, 0.06623674, ..., 0.        , 0.        ,\n",
      "        0.        ],\n",
      "       ...,\n",
      "       [0.9771715 , 0.9825373 , 0.03684205, ..., 0.        , 0.        ,\n",
      "        0.        ],\n",
      "       [0.9833511 , 0.9822912 , 0.42157438, ..., 0.        , 0.        ,\n",
      "        0.        ],\n",
      "       [0.9805306 , 0.9843273 , 0.07453834, ..., 0.        , 0.        ,\n",
      "        0.        ]], dtype=float32), array([[0.00898796, 0.00475318, 0.01313713, ..., 0.        , 0.        ,\n",
      "        0.        ],\n",
      "       [0.00917755, 0.00992557, 0.01830451, ..., 0.        , 0.        ,\n",
      "        0.        ],\n",
      "       [0.01033327, 0.00699702, 0.19779542, ..., 0.        , 0.        ,\n",
      "        0.        ],\n",
      "       ...,\n",
      "       [0.99355036, 0.99355924, 0.01324946, ..., 0.        , 0.        ,\n",
      "        0.        ],\n",
      "       [0.9936349 , 0.9893569 , 0.01355564, ..., 0.        , 0.        ,\n",
      "        0.        ],\n",
      "       [0.98897225, 0.9921793 , 0.21093975, ..., 0.        , 0.        ,\n",
      "        0.        ]], dtype=float32)]\n"
     ]
    }
   ],
   "source": [
    "net.setInput(blob)\n",
    "\n",
    "\n",
    "def obtener_capas_salida(net):\n",
    "    \n",
    "    layer_names = net.getLayerNames()\n",
    "    \n",
    "    output_layers = [layer_names[i[0] - 1] for i in net.getUnconnectedOutLayers()]\n",
    "\n",
    "    return output_layers\n",
    "\n",
    "# ejecutamos el procesamiento del modelo\n",
    "outs = net.forward(obtener_capas_salida(net))\n",
    "\n",
    "print (outs)"
   ]
  },
  {
   "cell_type": "markdown",
   "id": "27836bfd",
   "metadata": {},
   "source": [
    "Recorremos los objetos detectados. Para cada uno ellos obtenemos su valor de cofianza y eliminamos aquellos que no suepren el umbral fijado.\n"
   ]
  },
  {
   "cell_type": "code",
   "execution_count": 4,
   "id": "1a07fa66",
   "metadata": {},
   "outputs": [
    {
     "name": "stdout",
     "output_type": "stream",
     "text": [
      "[17, 17, 17, 0, 0, 0, 0, 0, 0, 0, 0, 0, 0, 0, 0]\n"
     ]
    }
   ],
   "source": [
    "_umbral = 0.5\n",
    "\n",
    "\n",
    "class_ids = []\n",
    "confidences = []\n",
    "boxes = []\n",
    "\n",
    "for out in outs:\n",
    "    for detection in out:\n",
    "        scores = detection[5:]\n",
    "        class_id = np.argmax(scores)\n",
    "        confidence = scores[class_id]\n",
    "        if confidence > _umbral:\n",
    "            center_x = int(detection[0] * Width)\n",
    "            center_y = int(detection[1] * Height)\n",
    "            w = int(detection[2] * Width)\n",
    "            h = int(detection[3] * Height)\n",
    "            x = center_x - w / 2\n",
    "            y = center_y - h / 2\n",
    "            class_ids.append(class_id)\n",
    "            confidences.append(float(confidence))\n",
    "            boxes.append([x, y, w, h])\n",
    "            \n",
    "print (class_ids)"
   ]
  },
  {
   "cell_type": "markdown",
   "id": "f0907366",
   "metadata": {},
   "source": [
    "## Pintado de las cajas de los objetos\n",
    "\n",
    "Una vez qe si tiene los objetos que se han detectado podemos pintar la caja que contenga el objeto y ponerle la etiqueta detectada\n"
   ]
  },
  {
   "cell_type": "code",
   "execution_count": 5,
   "id": "e76c10f7",
   "metadata": {},
   "outputs": [],
   "source": [
    "COLORS = np.random.uniform(0, 255, size=(len(classes), 3))\n",
    "\n",
    "#Función para pintar al caja\n",
    "def draw_bounding_box(img, class_id, confidence, x, y, x_plus_w, y_plus_h):\n",
    "\n",
    "    label = str(classes[class_id])\n",
    "    color = COLORS[class_id]\n",
    "    cv2.rectangle(img, (x,y), (x_plus_w,y_plus_h), color, 2)\n",
    "    cv2.putText(img, label, (x-10,y-10), cv2.FONT_HERSHEY_SIMPLEX, 0.5, color, 2)\n",
    "\n",
    "i = 0\n",
    "for box in boxes:\n",
    "    x = box[0]\n",
    "    y = box[1]\n",
    "    w = box[2]\n",
    "    h = box[3]\n",
    "    \n",
    "    draw_bounding_box(image, class_ids[i], confidences[i], round(x), round(y), round(x+w), round(y+h))\n",
    "    \n",
    "    i = i+1\n",
    "\n",
    "   \n",
    "cv2.imshow(\"object detection\", image)\n",
    "cv2.waitKey()    \n",
    "cv2.imwrite(\"./salidas/object-detection.jpg\", image)\n",
    "cv2.destroyAllWindows()"
   ]
  },
  {
   "cell_type": "markdown",
   "id": "44459ee6",
   "metadata": {},
   "source": [
    "## Refinado de las cajas\n",
    "Procesamos las cajas, para evitar las duplicidades y quedarnos con las máximas"
   ]
  },
  {
   "cell_type": "code",
   "execution_count": null,
   "id": "11e4577d",
   "metadata": {},
   "outputs": [],
   "source": [
    "_nms_threshold = 0.4\n",
    "            \n",
    "# non-max suppression\n",
    "indices = cv2.dnn.NMSBoxes(boxes, confidences, _umbral, _nms_threshold)\n",
    "\n",
    "for i in indices:\n",
    "    i = i[0]\n",
    "    box = boxes[i]\n",
    "    x = box[0]\n",
    "    y = box[1]\n",
    "    w = box[2]\n",
    "    h = box[3]\n",
    "    \n",
    "    draw_bounding_box(image, class_ids[i], confidences[i], round(x), round(y), round(x+w), round(y+h))\n",
    "\n",
    " \n",
    "cv2.imshow(\"object detection2\", image)\n",
    "cv2.waitKey()\n",
    "cv2.imwrite(\"./salidas/object-detection2.jpg\", image)\n",
    "cv2.destroyAllWindows()"
   ]
  }
 ],
 "metadata": {
  "kernelspec": {
   "display_name": "Python 3",
   "language": "python",
   "name": "python3"
  },
  "language_info": {
   "codemirror_mode": {
    "name": "ipython",
    "version": 3
   },
   "file_extension": ".py",
   "mimetype": "text/x-python",
   "name": "python",
   "nbconvert_exporter": "python",
   "pygments_lexer": "ipython3",
   "version": "3.8.8"
  }
 },
 "nbformat": 4,
 "nbformat_minor": 5
}
